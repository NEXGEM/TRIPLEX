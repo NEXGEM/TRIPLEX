{
 "cells": [
  {
   "cell_type": "markdown",
   "metadata": {},
   "source": [
    "## Setup"
   ]
  },
  {
   "cell_type": "markdown",
   "metadata": {},
   "source": [
    "### Download data from GEO dataset\n",
    "\n",
    "1. Navigate to the GEO dataset page:\n",
    "    https://www.ncbi.nlm.nih.gov/geo/query/acc.cgi?acc=GSE240429\n",
    "\n",
    "2. Download and unzip all files (if necessary) *except* the following:\n",
    "    - barcodes.tsv.gz\n",
    "    - features.tsv.gz\n",
    "    - matrix.mtx.gz"
   ]
  },
  {
   "cell_type": "markdown",
   "metadata": {},
   "source": [
    "## Preprocess data\n"
   ]
  },
  {
   "cell_type": "code",
   "execution_count": null,
   "metadata": {},
   "outputs": [],
   "source": [
    "import os\n",
    "\n",
    "if os.path.basename(os.getcwd()) == 'tutorials':\n",
    "    # Change to parent directory\n",
    "    os.chdir('..')"
   ]
  },
  {
   "cell_type": "code",
   "execution_count": null,
   "metadata": {},
   "outputs": [],
   "source": [
    "from src.preprocess.pipeline import TriplexPipeline, get_config                        \n",
    "from src.preprocess.pipeline.utils import get_available_gpus"
   ]
  },
  {
   "cell_type": "code",
   "execution_count": null,
   "metadata": {},
   "outputs": [],
   "source": [
    "# Example of processing Visium data for training\n",
    "visium_config = {\n",
    "    'mode': 'train',\n",
    "    'platform': 'visium',\n",
    "    'input_dir': './GSE240429',  # Replace with actual path\n",
    "    'output_dir': 'input/GSE240429',\n",
    "    'slide_ext': '.tif',\n",
    "    'save_neighbors': True\n",
    "}\n",
    "\n",
    "pipeline = TriplexPipeline(visium_config)\n",
    "pipeline.run_pipeline() # This will run preprocessing and feature extraction\n"
   ]
  },
  {
   "cell_type": "markdown",
   "metadata": {},
   "source": [
    "## Model Training\n"
   ]
  },
  {
   "cell_type": "markdown",
   "metadata": {},
   "source": [
    "```bash\n",
    "NUM_GPU=2\n",
    "MODE=cv\n",
    "DATASET=\"GSE240429\"\n",
    "\n",
    "# Define models to train\n",
    "MODELS=(\"TRIPLEX\" \"StNet\" \"EGN\" \"BLEEP\")\n",
    "\n",
    "# Submit jobs for each model\n",
    "for MODEL in \"${MODELS[@]}\"; do\n",
    "     python src/main.py --config_name $DATASET/$MODEL --gpu $NUM_GPU --mode $MODE\n",
    "done\n",
    "```"
   ]
  },
  {
   "cell_type": "markdown",
   "metadata": {},
   "source": [
    "## Model Evaluation\n"
   ]
  },
  {
   "cell_type": "markdown",
   "metadata": {},
   "source": [
    "\n",
    "```bash\n",
    "declare -A MODELS=(\n",
    "     [\"TRIPLEX\"]=\"Log name for TRIPLEX\"\n",
    "     [\"StNet\"]=\"Log name for StNet\"\n",
    "     [\"EGN\"]=\"Log name for EGN\"\n",
    "     [\"BLEEP\"]=\"Log name for BLEEP\"\n",
    ")\n",
    "\n",
    "DATASET=\"GSE240429\"\n",
    "# Loop through each model\n",
    "for MODEL in \"${!MODELS[@]}\"; do\n",
    "     LOG_NAME=${MODELS[$MODEL]}\n",
    "     python src/main.py --config_name $DATASET/$MODEL --gpu 1 --mode eval --log_name $LOG_NAME\n",
    "     python src/experiment/agg_results.py --dataset $DATASET --model $MODEL --log_name $LOG_NAME\n",
    "done\n",
    "```"
   ]
  }
 ],
 "metadata": {
  "kernelspec": {
   "display_name": "scgpt",
   "language": "python",
   "name": "python3"
  },
  "language_info": {
   "codemirror_mode": {
    "name": "ipython",
    "version": 3
   },
   "file_extension": ".py",
   "mimetype": "text/x-python",
   "name": "python",
   "nbconvert_exporter": "python",
   "pygments_lexer": "ipython3",
   "version": "3.9.16"
  }
 },
 "nbformat": 4,
 "nbformat_minor": 2
}
